{
 "cells": [
  {
   "cell_type": "markdown",
   "metadata": {},
   "source": [
    "# 실습"
   ]
  },
  {
   "cell_type": "markdown",
   "metadata": {},
   "source": [
    "## #2"
   ]
  },
  {
   "cell_type": "code",
   "execution_count": 5,
   "metadata": {},
   "outputs": [
    {
     "name": "stdout",
     "output_type": "stream",
     "text": [
      "x값을 입력하세요 : 10 456 87 78\n",
      "[10, 456, 87, 78]\n",
      "456\n"
     ]
    }
   ],
   "source": [
    "lists = list(map(int,input(\"x값을 입력하세요 : \").split()))\n",
    "print(lists)\n",
    "\n",
    "max = lists[0]\n",
    "for num in lists:\n",
    "    if num > max:\n",
    "        max = num\n",
    "\n",
    "print(max)"
   ]
  },
  {
   "cell_type": "markdown",
   "metadata": {},
   "source": [
    "## #3"
   ]
  },
  {
   "cell_type": "code",
   "execution_count": 29,
   "metadata": {},
   "outputs": [
    {
     "name": "stdout",
     "output_type": "stream",
     "text": [
      "문자열을 입력하세요 : abc def zzzzxy\n",
      "['abc', 'def', 'zzzzxy']\n"
     ]
    }
   ],
   "source": [
    "inputs = list(input(\"문자열을 입력하세요 : \").split())\n",
    "print(inputs)\n"
   ]
  },
  {
   "cell_type": "code",
   "execution_count": 37,
   "metadata": {},
   "outputs": [
    {
     "name": "stdout",
     "output_type": "stream",
     "text": [
      "encryption :  ['aaaayz', 'efg', 'bcd']\n",
      "decryption :  ['abc', 'def', 'zzzzxy']\n"
     ]
    },
    {
     "data": {
      "text/plain": [
       "['abc', 'def', 'zzzzxy']"
      ]
     },
     "execution_count": 37,
     "metadata": {},
     "output_type": "execute_result"
    }
   ],
   "source": [
    "def encryption(inputs):\n",
    "    #역순으로 배치하고\n",
    "    reversed_inputs = reversed(inputs)\n",
    "    result = []\n",
    "    #아스 코드 1씩 증가\n",
    "    for word in reversed_inputs:\n",
    "        word = list(word)\n",
    "        for k in range(len(word)):\n",
    "            if int(ord(word[k])==122):\n",
    "                word[k] = chr(97)\n",
    "                continue\n",
    "            word[k] = chr(int(ord(word[k]))+1)\n",
    "            \n",
    "        result.append(''.join(word))\n",
    "    print(\"encryption : \",result)\n",
    "    return result\n",
    "    \n",
    "    \n",
    "def decryption(inputs):\n",
    "    #역순으로 배치하고\n",
    "    reversed_inputs = reversed(inputs)\n",
    "    result = []\n",
    "    #아스 코드 1씩 감소\n",
    "    for word in reversed_inputs:\n",
    "        word = list(word)\n",
    "        for k in range(len(word)):\n",
    "            if int(ord(word[k])==97):\n",
    "                word[k] = chr(122)\n",
    "                continue\n",
    "            word[k] = chr(int(ord(word[k]))-1)\n",
    "            \n",
    "        result.append(''.join(word))\n",
    "    print(\"decryption : \",result)\n",
    "    return result\n",
    "    \n",
    "result = encryption(inputs)\n",
    "decryption(result)\n",
    "    "
   ]
  },
  {
   "cell_type": "markdown",
   "metadata": {},
   "source": [
    "## #4"
   ]
  },
  {
   "cell_type": "code",
   "execution_count": 10,
   "metadata": {},
   "outputs": [
    {
     "name": "stdout",
     "output_type": "stream",
     "text": [
      "이름과 전화번호를 입력하세요(띄어쓰기로 구분): 가 01011111111\n",
      "이름과 전화번호를 입력하세요(띄어쓰기로 구분): 나 01022222222\n",
      "이름과 전화번호를 입력하세요(띄어쓰기로 구분): 다 01033333333\n",
      "이름과 전화번호를 입력하세요(띄어쓰기로 구분): 라 01044444444\n",
      "이름과 전화번호를 입력하세요(띄어쓰기로 구분): 마 01055555555\n",
      "이름과 전화번호를 입력하세요(띄어쓰기로 구분): 바 01066666666\n",
      "이름과 전화번호를 입력하세요(띄어쓰기로 구분): 사 01077777777\n",
      "이름과 전화번호를 입력하세요(띄어쓰기로 구분): 아 01088888888\n",
      "이름과 전화번호를 입력하세요(띄어쓰기로 구분): 자 01099999999\n",
      "이름과 전화번호를 입력하세요(띄어쓰기로 구분): 차 01000000000\n",
      "{'가': '01011111111', '나': '01022222222', '다': '01033333333', '라': '01044444444', '마': '01055555555', '바': '01066666666', '사': '01077777777', '아': '01088888888', '자': '01099999999', '차': '01000000000'}\n"
     ]
    }
   ],
   "source": [
    "num = 10\n",
    "call_list = [input(\"이름과 전화번호를 입력하세요(띄어쓰기로 구분): \").split() for _ in range(num)]\n",
    "\n",
    "dic_list = {}\n",
    "for call in call_list:\n",
    "    dic_list[call[0]] = call[1]\n",
    "print(dic_list)\n",
    "\n"
   ]
  },
  {
   "cell_type": "code",
   "execution_count": 11,
   "metadata": {},
   "outputs": [
    {
     "name": "stdout",
     "output_type": "stream",
     "text": [
      "이름으로 검색하시려면 1을, 번호로 검색하시려면 2를 입력하세요 : 1\n",
      "검색할 이름을 입력하세요(종료 : 0) : 가\n",
      "01011111111\n",
      "이름으로 검색하시려면 1을, 번호로 검색하시려면 2를 입력하세요 : 1\n",
      "검색할 이름을 입력하세요(종료 : 0) : 마\n",
      "01055555555\n",
      "이름으로 검색하시려면 1을, 번호로 검색하시려면 2를 입력하세요 : 2\n",
      "검색할 번호를 입력하세요(종료 : 0) : 01099999999\n",
      "자\n",
      "이름으로 검색하시려면 1을, 번호로 검색하시려면 2를 입력하세요 : 2\n",
      "검색할 번호를 입력하세요(종료 : 0) : 010\n",
      "None\n",
      "이름으로 검색하시려면 1을, 번호로 검색하시려면 2를 입력하세요 : 1\n",
      "검색할 이름을 입력하세요(종료 : 0) : 홍길동\n",
      "None\n",
      "이름으로 검색하시려면 1을, 번호로 검색하시려면 2를 입력하세요 : 0\n",
      "종료합니다\n"
     ]
    }
   ],
   "source": [
    "def menu(dic_list):\n",
    "    num = int(input(\"이름으로 검색하시려면 1을, 번호로 검색하시려면 2를 입력하세요 : \"))\n",
    "    if num == 0 : \n",
    "        print(\"종료합니다\")\n",
    "        return\n",
    "    elif num == 1:\n",
    "        name = input(\"검색할 이름을 입력하세요(종료 : 0) : \")\n",
    "        print(dic_list.get(name))\n",
    "    elif num ==2 :\n",
    "        rev = {v:k for k,v in dic_list.items()}\n",
    "        tel = input(\"검색할 번호를 입력하세요(종료 : 0) : \")\n",
    "        print(rev.get(tel))\n",
    "    else:\n",
    "        print(\"1,2 중 하나를 선택하세요(종료 : 0) \")\n",
    "    menu(dic_list)\n",
    "    \n",
    "        \n",
    "menu(dic_list)"
   ]
  }
 ],
 "metadata": {
  "kernelspec": {
   "display_name": "Python 3",
   "language": "python",
   "name": "python3"
  },
  "language_info": {
   "codemirror_mode": {
    "name": "ipython",
    "version": 3
   },
   "file_extension": ".py",
   "mimetype": "text/x-python",
   "name": "python",
   "nbconvert_exporter": "python",
   "pygments_lexer": "ipython3",
   "version": "3.8.3"
  }
 },
 "nbformat": 4,
 "nbformat_minor": 4
}
