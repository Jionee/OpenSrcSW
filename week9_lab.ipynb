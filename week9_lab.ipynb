{
 "cells": [
  {
   "cell_type": "markdown",
   "metadata": {},
   "source": [
    "# 9주차 실습"
   ]
  },
  {
   "cell_type": "code",
   "execution_count": 33,
   "metadata": {},
   "outputs": [
    {
     "name": "stdout",
     "output_type": "stream",
     "text": [
      "x값을 입력하세요 : 5\n",
      "103\n",
      "반지름을 입력하세요 : 5\n",
      "반지름 :  5 둘레 :  31.41592653589793 부피 :  78.53981633974483\n"
     ]
    }
   ],
   "source": [
    "import math\n",
    "x = int(input(\"x값을 입력하세요 : \"))\n",
    "result = 3*pow(x,2)+5*x+3\n",
    "print(result)\n",
    "\n",
    "radius = int(input(\"반지름을 입력하세요 : \"))\n",
    "round_ = 2*math.pi*radius\n",
    "area = math.pi*pow(radius,2)\n",
    "print(\"반지름 : \",radius,\"둘레 : \",round_,\"부피 : \",area)"
   ]
  },
  {
   "cell_type": "markdown",
   "metadata": {},
   "source": [
    "# 수업내용"
   ]
  },
  {
   "cell_type": "code",
   "execution_count": 8,
   "metadata": {},
   "outputs": [
    {
     "name": "stdout",
     "output_type": "stream",
     "text": [
      "[9, 8, 7, 6, 5, 4, 3, 2, 1]\n",
      "[9, 7, 5, 3, 1]\n",
      "[1, 2, 3, 4, 5, 6, 7]\n",
      "[0, 0, 0, 0, 0]\n",
      "[1, 2, 1, 2, 1, 2, 1, 2, 1, 2]\n",
      "<list_reverseiterator object at 0x000001CC82252790>\n"
     ]
    }
   ],
   "source": [
    "nums = [1,2,3,4,5,6,7,8,9]\n",
    "\n",
    "print(nums[::-1])\n",
    "print(nums[::-2]) #뒤에서부터 두개씩\n",
    "print(nums[:-2]) #처음부터 뒤에서 두번째까지\n",
    "\n",
    "print([0]*5)\n",
    "print([1,2]*5)"
   ]
  },
  {
   "cell_type": "code",
   "execution_count": 16,
   "metadata": {},
   "outputs": [
    {
     "name": "stdout",
     "output_type": "stream",
     "text": [
      "another string\n",
      "g\n",
      "another strin\n",
      "string\n",
      "gnirts rehtona\n"
     ]
    }
   ],
   "source": [
    "s = \"another string\"\n",
    "\n",
    "print(s[0:len(s)])\n",
    "print(s[-1])\n",
    "print(s[:-1])\n",
    "print(s[-6:])\n",
    "print(s[::-1])"
   ]
  },
  {
   "cell_type": "code",
   "execution_count": 21,
   "metadata": {},
   "outputs": [
    {
     "name": "stdout",
     "output_type": "stream",
     "text": [
      "False\n",
      "False\n",
      "True\n",
      "True\n"
     ]
    }
   ],
   "source": [
    "s1 = \"string1\"\n",
    "s2 = \"string2\"\n",
    "s3 = s1\n",
    "\n",
    "print(s1==s2)\n",
    "print(s2==s3)\n",
    "print(s1==s3)\n",
    "print(s1 is s3)"
   ]
  },
  {
   "cell_type": "code",
   "execution_count": 24,
   "metadata": {},
   "outputs": [
    {
     "name": "stdout",
     "output_type": "stream",
     "text": [
      "How old are you?2\n",
      "age is 2\n"
     ]
    }
   ],
   "source": [
    "age = int(input(\"How old are you?\"))\n",
    "print(\"age is\",age)"
   ]
  },
  {
   "cell_type": "code",
   "execution_count": null,
   "metadata": {},
   "outputs": [],
   "source": []
  }
 ],
 "metadata": {
  "kernelspec": {
   "display_name": "Python 3",
   "language": "python",
   "name": "python3"
  }
 },
 "nbformat": 4,
 "nbformat_minor": 4
}
