{
 "cells": [
  {
   "cell_type": "code",
   "execution_count": 86,
   "metadata": {},
   "outputs": [
    {
     "name": "stdout",
     "output_type": "stream",
     "text": [
      "(1,2)\n",
      "(3,4)\n",
      "(4,6)\n"
     ]
    }
   ],
   "source": [
    "#1\n",
    "class Point:\n",
    "    x = 0\n",
    "    y = 0\n",
    "    def __init__(self,x,y):\n",
    "        self.x = x\n",
    "        self.y = y\n",
    "    def show(self):\n",
    "        print(\"(\"+str(self.x)+\",\"+str(self.y)+\")\")\n",
    "    def __add__(self,b):\n",
    "        self.x = (self.x+b.x)\n",
    "        self.y = (self.y+b.y)\n",
    "        return self\n",
    "\n",
    "a = Point(1,2)\n",
    "a.show()\n",
    "\n",
    "b = Point(3,4)\n",
    "b.show()\n",
    "\n",
    "a = a + b\n",
    "a.show()"
   ]
  },
  {
   "cell_type": "code",
   "execution_count": 23,
   "metadata": {},
   "outputs": [
    {
     "name": "stdout",
     "output_type": "stream",
     "text": [
      "Max Week = 5/8~5/14\n"
     ]
    }
   ],
   "source": [
    "#2\n",
    "import csv\n",
    "\n",
    "f = open('seoul.csv',encoding='cp949')\n",
    "data = csv.reader(f)\n",
    "header = next(data)\n",
    "#print(header)\n",
    "\n",
    "#일교차의 합이 가장 큰 1주일이 언제부터 언제인지\n",
    "#5.1~5.31 \n",
    "#1~7 / 8~14 / 15~21 / 22~28 / 29~31\n",
    "dateList = [\"5/1~5/7\",\"5/8~5/14\",\"5/15~5/21\",\"5/22~5/28\",\"5/29~5/31\"]\n",
    "date = []\n",
    "for d in data:\n",
    "    #print(d)\n",
    "    li = [float(d[4])-float(d[3])]\n",
    "    date.append(li)\n",
    "#print(date)\n",
    "\n",
    "result = [0,0,0,0,0]\n",
    "for i,d in enumerate(date):\n",
    "    #print(i,d)\n",
    "    if(i<7):\n",
    "        result[0] += d[0]\n",
    "    elif(i<14):\n",
    "        result[1] += d[0]\n",
    "    elif(i<21):\n",
    "        result[2] += d[0]\n",
    "    elif(i<28):\n",
    "        result[3] += d[0]\n",
    "    else:\n",
    "        result[4] += d[0]\n",
    "#print(result)\n",
    "\n",
    "m = 0\n",
    "mIndex = 0\n",
    "for index,r in enumerate(result):\n",
    "    if r > m:\n",
    "        m = r\n",
    "        mIndex = index\n",
    "#print(mIndex)\n",
    "    \n",
    "print(\"Max Week = \"+dateList[mIndex])"
   ]
  },
  {
   "cell_type": "code",
   "execution_count": 99,
   "metadata": {},
   "outputs": [
    {
     "name": "stdout",
     "output_type": "stream",
     "text": [
      "0.5773502691896258\n",
      "0.8660254037844387\n",
      "0.6666666666666667\n"
     ]
    },
    {
     "data": {
      "image/png": "[encoded data removed]",
      "text/plain": [
       "<Figure size 432x288 with 1 Axes>"
      ]
     },
     "metadata": {
      "needs_background": "light"
     },
     "output_type": "display_data"
    }
   ],
   "source": [
    "#3\n",
    "import numpy as np\n",
    "import matplotlib.pyplot as plt\n",
    "import pandas as pd\n",
    "\n",
    "docs = np.array([[1,1,0,1,0,1],[1,1,1,0,1,0],[1,1,0,1,0,0]])\n",
    "#print(docs)\n",
    "query = np.array([1,1,0,0,1,0])\n",
    "#print(query)\n",
    "\n",
    "resultArr = []\n",
    "for d in docs:\n",
    "    top = np.dot(d,query)\n",
    "    #print(top)\n",
    "    dfD = pd.DataFrame(d)\n",
    "    dfQ = pd.DataFrame(query)\n",
    "    \n",
    "    dfD['r'] = dfD.pow(2)\n",
    "    dfSum1 = dfD['r'].sum()\n",
    "    #print(dfSum)\n",
    "    \n",
    "    dfQ['r'] = dfQ.pow(2)\n",
    "    dfSum2 = dfQ['r'].sum()\n",
    "    #print(dfSum2)\n",
    "    \n",
    "    bottom = np.sqrt(dfSum1) * np.sqrt(dfSum2)\n",
    "    result = top / bottom\n",
    "    print(result)\n",
    "    resultArr.append(result)\n",
    "\n",
    "doc1 = \"doc1=\"+str(resultArr[0])\n",
    "doc2 = \"doc2=\"+str(resultArr[1])\n",
    "doc3 = \"doc3=\"+str(resultArr[2])\n",
    "\n",
    "la = [doc1,doc2,doc3]\n",
    "plt.title(\"Cosine similarities\")\n",
    "plt.bar([0,1,2],resultArr,label = la)\n",
    "plt.legend()\n",
    "plt.show()"
   ]
  }
 ],
 "metadata": {
  "kernelspec": {
   "display_name": "Python 3",
   "language": "python",
   "name": "python3"
  },
  "language_info": {
   "codemirror_mode": {
    "name": "ipython",
    "version": 3
   },
   "file_extension": ".py",
   "mimetype": "text/x-python",
   "name": "python",
   "nbconvert_exporter": "python",
   "pygments_lexer": "ipython3",
   "version": "3.8.3"
  }
 },
 "nbformat": 4,
 "nbformat_minor": 4
}
